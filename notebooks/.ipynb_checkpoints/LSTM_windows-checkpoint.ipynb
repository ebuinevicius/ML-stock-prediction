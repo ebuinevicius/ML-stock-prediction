{
 "cells": [
  {
   "cell_type": "markdown",
   "id": "6606234f",
   "metadata": {},
   "source": [
    "## Lets test models with other windows for the look-back for LSTM"
   ]
  },
  {
   "cell_type": "markdown",
   "id": "35926103",
   "metadata": {},
   "source": [
    "### 100 Days"
   ]
  },
  {
   "cell_type": "code",
   "execution_count": null,
   "id": "1c0a6e8c",
   "metadata": {},
   "outputs": [],
   "source": [
    "# Train test split\n",
    "X_train = []\n",
    "y_train = []\n",
    "X_test = []\n",
    "y_test = []\n",
    "window = 100 # Window is the number of previous days data we will use for LSTM\n",
    "\n",
    "# Select how much data we want to train / test on (75% for LSTM is appropriate)\n",
    "training_size = round(len(close_scaled) * 0.75)\n",
    "training_data = close_scaled[:training_size]\n",
    "test_data = close_scaled[training_size:]\n",
    "for i in range(window, len(training_data)):\n",
    "    # Training will use the trailing 60 days (can tweak this parameter)\n",
    "    X_train.append(close_scaled[i-window:i, 0])\n",
    "    y_train.append(close_scaled[i, 0])\n",
    "\n",
    "for i in range(len(training_data)+window, len(close_scaled)):\n",
    "    # Testing will use the trailing 60 days (can tweak this parameter)\n",
    "    X_test.append(close_scaled[i-window:i, 0])\n",
    "    y_test.append(close_scaled[i, 0])\n"
   ]
  },
  {
   "cell_type": "code",
   "execution_count": null,
   "id": "ea7d8fa9",
   "metadata": {},
   "outputs": [],
   "source": [
    "X_train, y_train = np.array(X_train), np.array(y_train)\n",
    "X_test, y_test = np.array(X_test), np.array(y_test)"
   ]
  },
  {
   "cell_type": "code",
   "execution_count": null,
   "id": "d00f8967",
   "metadata": {},
   "outputs": [],
   "source": [
    "X_train = np.reshape(X_train, (X_train.shape[0], X_train.shape[1], 1))\n",
    "X_test = np.reshape(X_test, (X_test.shape[0], X_test.shape[1], 1))"
   ]
  },
  {
   "cell_type": "code",
   "execution_count": null,
   "id": "d34a240e",
   "metadata": {},
   "outputs": [],
   "source": [
    "# Keras is a NN library built on top of Tensorflow that has LSTM built-in\n",
    "from keras.models import Sequential\n",
    "from keras.layers import Dense, Dropout, LSTM, Bidirectional"
   ]
  },
  {
   "cell_type": "code",
   "execution_count": null,
   "id": "4768cc0f",
   "metadata": {},
   "outputs": [],
   "source": [
    "# Create the LSTM model with multiple dropout layers to prevent overfitting\n",
    "model = Sequential()\n",
    "model.add(Bidirectional(LSTM(50, return_sequences=True, input_shape=(X_train.shape[1],1))))\n",
    "model.add(Dropout(0.2))\n",
    "model.add(Bidirectional(LSTM(50, return_sequences=True)))\n",
    "model.add(Dropout(0.2))\n",
    "model.add(Bidirectional(LSTM(50, return_sequences=False))) # Final LSTM layer, only want one output\n",
    "model.add(Dropout(0.2))\n",
    "model.add(Dense(1)) # Denase layer holds the output prediction\n",
    "\n",
    "model.compile(loss='mean_squared_error', optimizer='adam')\n",
    "model.summary()"
   ]
  },
  {
   "cell_type": "code",
   "execution_count": null,
   "id": "afdde621",
   "metadata": {
    "scrolled": true
   },
   "outputs": [],
   "source": [
    "# Train the model on our training data\n",
    "model.fit(X_train, y_train, epochs=100, batch_size=64, verbose=1)"
   ]
  },
  {
   "cell_type": "code",
   "execution_count": null,
   "id": "daca8912",
   "metadata": {},
   "outputs": [],
   "source": [
    "import tensorflow as tf\n",
    "import math\n",
    "from sklearn.metrics import mean_squared_error"
   ]
  },
  {
   "cell_type": "code",
   "execution_count": null,
   "id": "281d3f92",
   "metadata": {},
   "outputs": [],
   "source": [
    "# Perform predictions\n",
    "predicted_price = model.predict(X_test)"
   ]
  },
  {
   "cell_type": "code",
   "execution_count": null,
   "id": "db1189c2",
   "metadata": {},
   "outputs": [],
   "source": [
    "# Calculate RMSE for expected y values and the predictions from the model\n",
    "math.sqrt(mean_squared_error(y_test, predicted_price))"
   ]
  },
  {
   "cell_type": "code",
   "execution_count": null,
   "id": "63013411",
   "metadata": {},
   "outputs": [],
   "source": [
    "# Transform predicted normalized values back to prices in dollars\n",
    "predicted_price = scaler.inverse_transform(predicted_price)\n",
    "predicted_price"
   ]
  },
  {
   "cell_type": "code",
   "execution_count": null,
   "id": "cc683903",
   "metadata": {},
   "outputs": [],
   "source": [
    "# Create prediction df where the date is matched up with the predicted closing price for test data\n",
    "prediction_df = pd.DataFrame(predicted_price, columns=['Close'])\n",
    "prediction_df['Date'] = aapl.iloc[training_size+window:]['Date'].values\n",
    "prediction_df['Date'] = pd.to_datetime(prediction_df['Date'])\n",
    "prediction_df.head()"
   ]
  },
  {
   "cell_type": "code",
   "execution_count": null,
   "id": "151f0b3e",
   "metadata": {},
   "outputs": [],
   "source": [
    "# Create new dataframe with the Date as the index (so that dates appear on x-axis of plots)\n",
    "aapl_dateind = aapl\n",
    "aapl_dateind['Date'] = pd.to_datetime(aapl_dateind['Date'])\n",
    "aapl_dateind = aapl_dateind.set_index('Date')\n",
    "aapl_dateind"
   ]
  },
  {
   "cell_type": "code",
   "execution_count": null,
   "id": "bc317d86",
   "metadata": {},
   "outputs": [],
   "source": [
    "# Set index of prediction dataframe to the Date so that it can be plotted with the entire dataset\n",
    "prediction_df\n",
    "prediction = prediction_df.set_index(['Date'])\n",
    "prediction"
   ]
  },
  {
   "cell_type": "code",
   "execution_count": null,
   "id": "01932dba",
   "metadata": {},
   "outputs": [],
   "source": [
    "# Same as window for training above\n",
    "look_back = window\n",
    "\n",
    "# Create the plot for model's predictions on the test data \n",
    "plt.figure(figsize=(18,9))\n",
    "# Plot the actual price of the test data\n",
    "plt.plot(aapl_dateind[training_size+look_back:len(close_scaled)]['Close'], label='Validation')\n",
    "# Plot the prediction on test data\n",
    "plt.plot(prediction['Close'], label='Prediction')\n",
    "plt.plot(aapl_dateind[:training_size+look_back]['Close'], label='Historical')\n",
    "plt.legend()\n",
    "plt.ylabel('Price')\n",
    "plt.xlabel('Date')\n",
    "plt.show()"
   ]
  },
  {
   "cell_type": "code",
   "execution_count": null,
   "id": "f2a3991d",
   "metadata": {},
   "outputs": [],
   "source": [
    "model.save('../models/LSTMmodel100')"
   ]
  },
  {
   "cell_type": "markdown",
   "id": "3d7e693f",
   "metadata": {},
   "source": [
    "### 30 days"
   ]
  },
  {
   "cell_type": "code",
   "execution_count": null,
   "id": "bb391337",
   "metadata": {},
   "outputs": [],
   "source": [
    "# Train test split\n",
    "X_train = []\n",
    "y_train = []\n",
    "X_test = []\n",
    "y_test = []\n",
    "window = 30 # Window is the number of previous days data we will use for LSTM\n",
    "\n",
    "# Select how much data we want to train / test on (75% for LSTM is appropriate)\n",
    "training_size = round(len(close_scaled) * 0.75)\n",
    "training_data = close_scaled[:training_size]\n",
    "test_data = close_scaled[training_size:]\n",
    "for i in range(window, len(training_data)):\n",
    "    # Training will use the trailing 60 days (can tweak this parameter)\n",
    "    X_train.append(close_scaled[i-window:i, 0])\n",
    "    y_train.append(close_scaled[i, 0])\n",
    "\n",
    "for i in range(len(training_data)+window, len(close_scaled)):\n",
    "    # Testing will use the trailing 60 days (can tweak this parameter)\n",
    "    X_test.append(close_scaled[i-window:i, 0])\n",
    "    y_test.append(close_scaled[i, 0])\n"
   ]
  },
  {
   "cell_type": "code",
   "execution_count": null,
   "id": "8d63d052",
   "metadata": {},
   "outputs": [],
   "source": [
    "X_train, y_train = np.array(X_train), np.array(y_train)\n",
    "X_test, y_test = np.array(X_test), np.array(y_test)\n",
    "X_train = np.reshape(X_train, (X_train.shape[0], X_train.shape[1], 1))\n",
    "X_test = np.reshape(X_test, (X_test.shape[0], X_test.shape[1], 1))"
   ]
  },
  {
   "cell_type": "code",
   "execution_count": null,
   "id": "6a284ad7",
   "metadata": {},
   "outputs": [],
   "source": [
    "# Create the LSTM model with multiple dropout layers to prevent overfitting\n",
    "model = Sequential()\n",
    "model.add(LSTM(50, return_sequences=True, input_shape=(X_train.shape[1],1)))\n",
    "model.add(Dropout(0.2))\n",
    "model.add(LSTM(50, return_sequences=True))\n",
    "model.add(Dropout(0.2))\n",
    "model.add(LSTM(50))\n",
    "model.add(Dropout(0.2))\n",
    "model.add(Dense(1))\n",
    "\n",
    "model.compile(loss='mean_squared_error', optimizer='adam')\n",
    "model.summary()"
   ]
  },
  {
   "cell_type": "code",
   "execution_count": null,
   "id": "da7b7028",
   "metadata": {
    "scrolled": true
   },
   "outputs": [],
   "source": [
    "# Train the model on our training data\n",
    "model.fit(X_train, y_train, epochs=100, batch_size=64, verbose=1)"
   ]
  },
  {
   "cell_type": "code",
   "execution_count": null,
   "id": "26b9b5a2",
   "metadata": {},
   "outputs": [],
   "source": [
    "# Perform predictions\n",
    "predicted_price = model.predict(X_test)"
   ]
  },
  {
   "cell_type": "code",
   "execution_count": null,
   "id": "6a525dfa",
   "metadata": {},
   "outputs": [],
   "source": [
    "# Calculate RMSE for expected y values and the predictions from the model\n",
    "math.sqrt(mean_squared_error(y_test, predicted_price))"
   ]
  },
  {
   "cell_type": "code",
   "execution_count": null,
   "id": "ea2aa4ca",
   "metadata": {},
   "outputs": [],
   "source": [
    "# Transform predicted normalized values back to prices in dollars\n",
    "predicted_price = scaler.inverse_transform(predicted_price)\n",
    "predicted_price"
   ]
  },
  {
   "cell_type": "code",
   "execution_count": null,
   "id": "afd651d5",
   "metadata": {},
   "outputs": [],
   "source": [
    "# Create prediction df where the date is matched up with the predicted closing price for test data\n",
    "prediction_df = pd.DataFrame(predicted_price, columns=['Close'])\n",
    "prediction_df['Date'] = aapl.iloc[training_size+window:]['Date'].values\n",
    "prediction_df['Date'] = pd.to_datetime(prediction_df['Date'])\n",
    "prediction_df.head()"
   ]
  },
  {
   "cell_type": "code",
   "execution_count": null,
   "id": "0d8ed232",
   "metadata": {},
   "outputs": [],
   "source": [
    "# Create new dataframe with the Date as the index (so that dates appear on x-axis of plots)\n",
    "aapl_dateind = aapl\n",
    "aapl_dateind['Date'] = pd.to_datetime(aapl_dateind['Date'])\n",
    "aapl_dateind = aapl_dateind.set_index('Date')\n",
    "aapl_dateind"
   ]
  },
  {
   "cell_type": "code",
   "execution_count": null,
   "id": "92b7cca7",
   "metadata": {},
   "outputs": [],
   "source": [
    "# Set index of prediction dataframe to the Date so that it can be plotted with the entire dataset\n",
    "prediction_df\n",
    "prediction = prediction_df.set_index(['Date'])\n",
    "prediction"
   ]
  },
  {
   "cell_type": "code",
   "execution_count": null,
   "id": "31400425",
   "metadata": {},
   "outputs": [],
   "source": [
    "# Same as window for training above\n",
    "look_back = window\n",
    "\n",
    "# Create the plot for model's predictions on the test data \n",
    "plt.figure(figsize=(18,9))\n",
    "# Plot the actual price of the test data\n",
    "plt.plot(aapl_dateind[training_size+look_back:len(close_scaled)]['Close'], label='Validation')\n",
    "# Plot the prediction on test data\n",
    "plt.plot(prediction['Close'], label='Prediction')\n",
    "plt.plot(aapl_dateind[:training_size+look_back]['Close'], label='Historical')\n",
    "plt.legend()\n",
    "plt.ylabel('Price')\n",
    "plt.xlabel('Date')\n",
    "plt.show()"
   ]
  },
  {
   "cell_type": "code",
   "execution_count": null,
   "id": "8b6dc877",
   "metadata": {},
   "outputs": [],
   "source": [
    "model.save('../models/LSTMmodel30')"
   ]
  },
  {
   "cell_type": "markdown",
   "id": "7c8a0f1c",
   "metadata": {},
   "source": [
    "## Now compare the three models based on RMSE"
   ]
  },
  {
   "cell_type": "code",
   "execution_count": null,
   "id": "6cc3e4ac",
   "metadata": {},
   "outputs": [],
   "source": [
    "model60 = tf.keras.models.load_model('../models/LSTMmodel')\n",
    "model100 = tf.keras.models.load_model('../models/LSTMmodel100')\n",
    "model30 = tf.keras.models.load_model('../models/LSTMmodel30')"
   ]
  },
  {
   "cell_type": "markdown",
   "id": "d66fa42a",
   "metadata": {},
   "source": [
    "### 30 day model"
   ]
  },
  {
   "cell_type": "code",
   "execution_count": null,
   "id": "d028a4ac",
   "metadata": {},
   "outputs": [],
   "source": [
    "# Train test split\n",
    "X_train_30 = []\n",
    "y_train_30 = []\n",
    "X_test_30 = []\n",
    "y_test_30 = []\n",
    "window = 30 # Window is the number of previous days data we will use for LSTM\n",
    "\n",
    "# Select how much data we want to train / test on (75% for LSTM is appropriate)\n",
    "training_size = round(len(close_scaled) * 0.75)\n",
    "training_data = close_scaled[:training_size]\n",
    "test_data = close_scaled[training_size:]\n",
    "for i in range(window, len(training_data)):\n",
    "    # Training will use the trailing 60 days (can tweak this parameter)\n",
    "    X_train_30.append(close_scaled[i-window:i, 0])\n",
    "    y_train_30.append(close_scaled[i, 0])\n",
    "\n",
    "for i in range(len(training_data)+window, len(close_scaled)):\n",
    "    # Testing will use the trailing 60 days (can tweak this parameter)\n",
    "    X_test_30.append(close_scaled[i-window:i, 0])\n",
    "    y_test_30.append(close_scaled[i, 0])\n"
   ]
  },
  {
   "cell_type": "code",
   "execution_count": null,
   "id": "015e9162",
   "metadata": {},
   "outputs": [],
   "source": [
    "X_train_30, y_train_30 = np.array(X_train_30), np.array(y_train_30)\n",
    "X_test_30, y_test_30 = np.array(X_test_30), np.array(y_test_30)\n",
    "X_train_30 = np.reshape(X_train_30, (X_train_30.shape[0], X_train_30.shape[1], 1))\n",
    "X_test_30 = np.reshape(X_test_30, (X_test_30.shape[0], X_test_30.shape[1], 1))"
   ]
  },
  {
   "cell_type": "markdown",
   "id": "500c5d86",
   "metadata": {},
   "source": [
    "### 60 day model"
   ]
  },
  {
   "cell_type": "code",
   "execution_count": null,
   "id": "63e9c722",
   "metadata": {},
   "outputs": [],
   "source": [
    "# Train test split\n",
    "X_train_60 = []\n",
    "y_train_60 = []\n",
    "X_test_60 = []\n",
    "y_test_60 = []\n",
    "window = 60 # Window is the number of previous days data we will use for LSTM\n",
    "\n",
    "# Select how much data we want to train / test on (75% for LSTM is appropriate)\n",
    "training_size = round(len(close_scaled) * 0.75)\n",
    "training_data = close_scaled[:training_size]\n",
    "test_data = close_scaled[training_size:]\n",
    "for i in range(window, len(training_data)):\n",
    "    # Training will use the trailing 60 days (can tweak this parameter)\n",
    "    X_train_60.append(close_scaled[i-window:i, 0])\n",
    "    y_train_60.append(close_scaled[i, 0])\n",
    "\n",
    "for i in range(len(training_data)+window, len(close_scaled)):\n",
    "    # Testing will use the trailing 60 days (can tweak this parameter)\n",
    "    X_test_60.append(close_scaled[i-window:i, 0])\n",
    "    y_test_60.append(close_scaled[i, 0])\n"
   ]
  },
  {
   "cell_type": "code",
   "execution_count": null,
   "id": "df4a7aa1",
   "metadata": {},
   "outputs": [],
   "source": [
    "X_train_60, y_train_60 = np.array(X_train_60), np.array(y_train_60)\n",
    "X_test_60, y_test_60 = np.array(X_test_60), np.array(y_test_60)\n",
    "X_train_60 = np.reshape(X_train_60, (X_train_60.shape[0], X_train_60.shape[1], 1))\n",
    "X_test_60 = np.reshape(X_test_60, (X_test_60.shape[0], X_test_60.shape[1], 1))"
   ]
  },
  {
   "cell_type": "markdown",
   "id": "a7453f93",
   "metadata": {},
   "source": [
    "### 100 day model"
   ]
  },
  {
   "cell_type": "code",
   "execution_count": null,
   "id": "521144de",
   "metadata": {},
   "outputs": [],
   "source": [
    "# Train test split\n",
    "X_train_100 = []\n",
    "y_train_100 = []\n",
    "X_test_100 = []\n",
    "y_test_100 = []\n",
    "window = 100 # Window is the number of previous days data we will use for LSTM\n",
    "\n",
    "# Select how much data we want to train / test on (75% for LSTM is appropriate)\n",
    "training_size = round(len(close_scaled) * 0.75)\n",
    "training_data = close_scaled[:training_size]\n",
    "test_data = close_scaled[training_size:]\n",
    "for i in range(window, len(training_data)):\n",
    "    # Training will use the trailing 60 days (can tweak this parameter)\n",
    "    X_train_100.append(close_scaled[i-window:i, 0])\n",
    "    y_train_100.append(close_scaled[i, 0])\n",
    "\n",
    "for i in range(len(training_data)+window, len(close_scaled)):\n",
    "    # Testing will use the trailing 60 days (can tweak this parameter)\n",
    "    X_test_100.append(close_scaled[i-window:i, 0])\n",
    "    y_test_100.append(close_scaled[i, 0])\n"
   ]
  },
  {
   "cell_type": "code",
   "execution_count": null,
   "id": "d4e418c8",
   "metadata": {},
   "outputs": [],
   "source": [
    "X_train_100, y_train_100 = np.array(X_train_100), np.array(y_train_100)\n",
    "X_test_100, y_test_100 = np.array(X_test_100), np.array(y_test_100)\n",
    "X_train_100 = np.reshape(X_train_100, (X_train_100.shape[0], X_train_100.shape[1], 1))\n",
    "X_test_100 = np.reshape(X_test_100, (X_test_100.shape[0], X_test_100.shape[1], 1))"
   ]
  },
  {
   "cell_type": "code",
   "execution_count": null,
   "id": "d30d1af3",
   "metadata": {},
   "outputs": [],
   "source": [
    "# Perform predictions\n",
    "predicted_price_60 = model60.predict(X_test_60)\n",
    "predicted_price_100 = model100.predict(X_test_100)\n",
    "predicted_price_30 = model30.predict(X_test_30)"
   ]
  },
  {
   "cell_type": "code",
   "execution_count": null,
   "id": "4fcefb55",
   "metadata": {},
   "outputs": [],
   "source": [
    "# Calculate RMSE for expected y values and the predictions from the model\n",
    "math.sqrt(mean_squared_error(y_test_30, predicted_price_30))"
   ]
  },
  {
   "cell_type": "code",
   "execution_count": null,
   "id": "c88c6a75",
   "metadata": {},
   "outputs": [],
   "source": [
    "math.sqrt(mean_squared_error(y_test_60, predicted_price_60))"
   ]
  },
  {
   "cell_type": "code",
   "execution_count": null,
   "id": "8b03b07b",
   "metadata": {},
   "outputs": [],
   "source": [
    "math.sqrt(mean_squared_error(y_test_100, predicted_price_100))"
   ]
  },
  {
   "cell_type": "code",
   "execution_count": null,
   "id": "3ccab72f",
   "metadata": {},
   "outputs": [],
   "source": []
  }
 ],
 "metadata": {
  "kernelspec": {
   "display_name": "Python 3 (ipykernel)",
   "language": "python",
   "name": "python3"
  },
  "language_info": {
   "codemirror_mode": {
    "name": "ipython",
    "version": 3
   },
   "file_extension": ".py",
   "mimetype": "text/x-python",
   "name": "python",
   "nbconvert_exporter": "python",
   "pygments_lexer": "ipython3",
   "version": "3.9.12"
  }
 },
 "nbformat": 4,
 "nbformat_minor": 5
}
